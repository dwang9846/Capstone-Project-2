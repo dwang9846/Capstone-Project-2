{
 "cells": [
  {
   "cell_type": "code",
   "execution_count": 2,
   "metadata": {},
   "outputs": [],
   "source": [
    "import pandas as pd\n",
    "import numpy as np"
   ]
  },
  {
   "cell_type": "code",
   "execution_count": 3,
   "metadata": {},
   "outputs": [],
   "source": [
    "#import file into jupter notebook\n",
    "cap2_data2=pd.read_csv('cap2_data2.csv')\n",
    "cap2_data1=pd.read_csv('cap2_file.csv')\n"
   ]
  },
  {
   "cell_type": "code",
   "execution_count": 4,
   "metadata": {},
   "outputs": [],
   "source": [
    "#remove the unnamed column\n",
    "cap2_data2=cap2_data2.loc[:,~cap2_data2.columns.str.contains('unnamed',case=False)]\n",
    "cap2_data1=cap2_data1.loc[:,~cap2_data1.columns.str.contains('unnamed',case=False)]"
   ]
  },
  {
   "cell_type": "code",
   "execution_count": 5,
   "metadata": {},
   "outputs": [
    {
     "name": "stderr",
     "output_type": "stream",
     "text": [
      "C:\\Users\\HP\\Anaconda3\\lib\\site-packages\\ipykernel_launcher.py:5: FutureWarning: \n",
      ".ix is deprecated. Please use\n",
      ".loc for label based indexing or\n",
      ".iloc for positional indexing\n",
      "\n",
      "See the documentation here:\n",
      "http://pandas.pydata.org/pandas-docs/stable/user_guide/indexing.html#ix-indexer-is-deprecated\n",
      "  \"\"\"\n",
      "C:\\Users\\HP\\Anaconda3\\lib\\site-packages\\ipykernel_launcher.py:6: FutureWarning: \n",
      ".ix is deprecated. Please use\n",
      ".loc for label based indexing or\n",
      ".iloc for positional indexing\n",
      "\n",
      "See the documentation here:\n",
      "http://pandas.pydata.org/pandas-docs/stable/user_guide/indexing.html#ix-indexer-is-deprecated\n",
      "  \n"
     ]
    },
    {
     "name": "stdout",
     "output_type": "stream",
     "text": [
      "funded_amnt                   0\n",
      "term                          0\n",
      "int_rate                      0\n",
      "grade                         0\n",
      "home_ownership                0\n",
      "annual_inc                    0\n",
      "verification_status           0\n",
      "loan_status                   0\n",
      "pymnt_plan                    0\n",
      "purpose                       0\n",
      "addr_state                    0\n",
      "dti                           0\n",
      "delinq_2yrs                   0\n",
      "earliest_cr_line              0\n",
      "fico_range_high               0\n",
      "inq_last_6mths                0\n",
      "open_acc                      0\n",
      "pub_rec                       0\n",
      "revol_bal                     0\n",
      "revol_util                    0\n",
      "total_acc                     0\n",
      "initial_list_status           0\n",
      "out_prncp_inv                 0\n",
      "total_rec_prncp               0\n",
      "total_rec_int                 0\n",
      "total_rec_late_fee            0\n",
      "collection_recovery_fee       0\n",
      "last_pymnt_amnt               0\n",
      "last_fico_range_high          0\n",
      "last_fico_range_low           0\n",
      "collections_12_mths_ex_med    0\n",
      "application_type              0\n",
      "acc_now_delinq                0\n",
      "chargeoff_within_12_mths      0\n",
      "delinq_amnt                   0\n",
      "pub_rec_bankruptcies          0\n",
      "tax_liens                     0\n",
      "hardship_flag                 0\n",
      "debt_settlement_flag          0\n",
      "issue_y                       0\n",
      "dtype: int64\n"
     ]
    },
    {
     "data": {
      "text/plain": [
       "(300276, 40)"
      ]
     },
     "execution_count": 5,
     "metadata": {},
     "output_type": "execute_result"
    }
   ],
   "source": [
    "#extract out 1st column('dti' feautre) in cap2_data2 and replace it with the 'dti' feature in cap2_data1\n",
    "#extract out 2nd column('revol_util' feature) in cap2_data2 and replace it with 'revol_util' feautre in cap2_data1\n",
    "#cap2_data1 is the clean dataset that i can use to train models\n",
    "#double check cap2_data1 to see if there is any missing value in it\n",
    "cap2_data1.dti=cap2_data2.ix[:,0]\n",
    "cap2_data1.revol_util=cap2_data2.ix[:,1]\n",
    "print(cap2_data1.isnull().sum())\n",
    "cap2_data1.shape"
   ]
  },
  {
   "cell_type": "code",
   "execution_count": 6,
   "metadata": {},
   "outputs": [
    {
     "name": "stdout",
     "output_type": "stream",
     "text": [
      "        funded_amnt  term  int_rate grade home_ownership  annual_inc  \\\n",
      "0           16000.0  60.0     14.85     C       MORTGAGE     48000.0   \n",
      "1           16000.0  36.0     12.88     C       MORTGAGE     65000.0   \n",
      "2           12000.0  36.0     10.78     B           RENT     98000.0   \n",
      "3           16800.0  60.0     12.88     C       MORTGAGE    118000.0   \n",
      "4           16000.0  60.0     13.99     C       MORTGAGE    142000.0   \n",
      "...             ...   ...       ...   ...            ...         ...   \n",
      "300271      39975.0  36.0     25.00     D       MORTGAGE         0.0   \n",
      "300272      13425.0  60.0     15.24     C       MORTGAGE     48000.0   \n",
      "300273      10000.0  36.0     11.02     B       MORTGAGE    160000.0   \n",
      "300274      20000.0  60.0     20.00     D       MORTGAGE     55000.0   \n",
      "300275      10000.0  36.0      8.81     A       MORTGAGE     52116.0   \n",
      "\n",
      "       verification_status         loan_status pymnt_plan             purpose  \\\n",
      "0             Not Verified          Fully Paid          n         credit_card   \n",
      "1             Not Verified         Charged Off          n      small_business   \n",
      "2             Not Verified          Fully Paid          n  debt_consolidation   \n",
      "3             Not Verified             Current          n  debt_consolidation   \n",
      "4                 Verified             Current          n  debt_consolidation   \n",
      "...                    ...                 ...        ...                 ...   \n",
      "300271        Not Verified  Late (31-120 days)          n  debt_consolidation   \n",
      "300272            Verified             Current          n               other   \n",
      "300273        Not Verified             Current          n  debt_consolidation   \n",
      "300274        Not Verified             Current          n    home_improvement   \n",
      "300275            Verified             Current          n  debt_consolidation   \n",
      "\n",
      "        ... collections_12_mths_ex_med  application_type  acc_now_delinq  \\\n",
      "0       ...                        0.0        Individual             0.0   \n",
      "1       ...                        0.0        Individual             0.0   \n",
      "2       ...                        0.0        Individual             0.0   \n",
      "3       ...                        0.0        Individual             0.0   \n",
      "4       ...                        0.0        Individual             0.0   \n",
      "...     ...                        ...               ...             ...   \n",
      "300271  ...                        0.0         Joint App             0.0   \n",
      "300272  ...                        0.0         Joint App             0.0   \n",
      "300273  ...                        0.0        Individual             0.0   \n",
      "300274  ...                        0.0         Joint App             0.0   \n",
      "300275  ...                        0.0        Individual             0.0   \n",
      "\n",
      "       chargeoff_within_12_mths  delinq_amnt  pub_rec_bankruptcies  tax_liens  \\\n",
      "0                           0.0          0.0                   0.0        2.0   \n",
      "1                           0.0          0.0                   0.0        1.0   \n",
      "2                           0.0          0.0                   0.0        0.0   \n",
      "3                           0.0          0.0                   0.0        0.0   \n",
      "4                           0.0          0.0                   0.0        2.0   \n",
      "...                         ...          ...                   ...        ...   \n",
      "300271                      0.0          0.0                   0.0        0.0   \n",
      "300272                      0.0          0.0                   0.0        0.0   \n",
      "300273                      0.0          0.0                   0.0        0.0   \n",
      "300274                      0.0          0.0                   0.0        0.0   \n",
      "300275                      0.0          0.0                   0.0        0.0   \n",
      "\n",
      "        hardship_flag  debt_settlement_flag  issue_y  \n",
      "0                   N                     N   2015.0  \n",
      "1                   N                     N   2015.0  \n",
      "2                   N                     N   2015.0  \n",
      "3                   N                     N   2015.0  \n",
      "4                   N                     N   2015.0  \n",
      "...               ...                   ...      ...  \n",
      "300271              N                     N   2019.0  \n",
      "300272              N                     N   2019.0  \n",
      "300273              N                     N   2019.0  \n",
      "300274              N                     N   2019.0  \n",
      "300275              N                     N   2019.0  \n",
      "\n",
      "[300276 rows x 40 columns]\n"
     ]
    }
   ],
   "source": [
    "# 'term' feature is the combination of numerical and string values \n",
    "# remove strings in term feature and leave only numberical numbers \n",
    "# define the 'term' column as float type\n",
    "\n",
    "term_values=cap2_data1.term.values #get the feautre values from dataset\n",
    "new_values=[] # create an emply list named new_values\n",
    "for term_value in term_values: # iterate all the values in term feature\n",
    "    new_value=term_value[0:3]  #keep the first 3 digits of each value and name it new_value\n",
    "    new_values.append(new_value) # put all new_values in the new_values list\n",
    "#print(new_values)\n",
    "cap2_data1.term=new_values # replace the 'term' feature with values in new_values list\n",
    "cap2_data1.term=cap2_data1.term.astype('float64') # define the column as flost type\n",
    "print(cap2_data1)"
   ]
  },
  {
   "cell_type": "code",
   "execution_count": 7,
   "metadata": {},
   "outputs": [
    {
     "name": "stdout",
     "output_type": "stream",
     "text": [
      "          int_rate\n",
      "issue_y           \n",
      "2013.0   19.740000\n",
      "2014.0   17.756613\n",
      "2015.0   14.128597\n",
      "2016.0   14.284152\n",
      "2017.0   13.999344\n",
      "2018.0   13.675627\n",
      "2019.0   13.637347\n"
     ]
    },
    {
     "data": {
      "image/png": "[encoded data removed]",
      "text/plain": [
       "<Figure size 432x288 with 1 Axes>"
      ]
     },
     "metadata": {
      "needs_background": "light"
     },
     "output_type": "display_data"
    }
   ],
   "source": [
    "#plot average interest rate trend over years\n",
    "\n",
    "import matplotlib.pyplot as plt\n",
    "import seaborn as sns\n",
    "%matplotlib inline\n",
    "\n",
    "int_rate_data_year=cap2_data1.loc[:,['int_rate','issue_y']] # get the two relevate columns: 'int_rate' & 'issue_y'\n",
    "int_rate_data_year.int_rate=int_rate_data_year.int_rate.astype('float64') # define the int_rate column as float type\n",
    "k=pd.pivot_table(int_rate_data_year,values='int_rate',index='issue_y',aggfunc=np.mean) # create pivot table with 'issue_y' as index and 'int_rate' as column and the average intereat rate as value\n",
    "print(k)\n",
    "\n",
    "plt.plot(k.index,k.int_rate) # plot the average interest rate trend over years\n",
    "plt.show() # show the plot"
   ]
  },
  {
   "cell_type": "code",
   "execution_count": 8,
   "metadata": {},
   "outputs": [
    {
     "name": "stderr",
     "output_type": "stream",
     "text": [
      "C:\\Users\\HP\\Anaconda3\\lib\\site-packages\\ipykernel_launcher.py:4: FutureWarning: \n",
      ".ix is deprecated. Please use\n",
      ".loc for label based indexing or\n",
      ".iloc for positional indexing\n",
      "\n",
      "See the documentation here:\n",
      "http://pandas.pydata.org/pandas-docs/stable/user_guide/indexing.html#ix-indexer-is-deprecated\n",
      "  after removing the cwd from sys.path.\n",
      "C:\\Users\\HP\\Anaconda3\\lib\\site-packages\\pandas\\core\\indexing.py:822: FutureWarning: \n",
      ".ix is deprecated. Please use\n",
      ".loc for label based indexing or\n",
      ".iloc for positional indexing\n",
      "\n",
      "See the documentation here:\n",
      "http://pandas.pydata.org/pandas-docs/stable/user_guide/indexing.html#ix-indexer-is-deprecated\n",
      "  retval = getattr(retval, self.name)._getitem_axis(key, axis=i)\n"
     ]
    },
    {
     "data": {
      "text/plain": [
       "<matplotlib.axes._subplots.AxesSubplot at 0x1619face4c8>"
      ]
     },
     "execution_count": 8,
     "metadata": {},
     "output_type": "execute_result"
    },
    {
     "data": {
      "image/png": "[encoded data removed]",
      "text/plain": [
       "<Figure size 1152x576 with 1 Axes>"
      ]
     },
     "metadata": {
      "needs_background": "light"
     },
     "output_type": "display_data"
    }
   ],
   "source": [
    "# dealing with string columns\n",
    "#plot average interest rate by different states\n",
    "\n",
    "int_rate_data_state=cap2_data1.ix[:,['int_rate','addr_state']] # get relevant columns out of dataset:'int_rate' & 'addr_state'\n",
    "int_rate_data_state.int_rate=int_rate_data_state.int_rate.astype('float64') # define 'int_rate' column as float type\n",
    "s=pd.pivot_table(int_rate_data_state,index='addr_state',values='int_rate',aggfunc=np.mean) # create pivot table as 'add_state' as index,'int_rate' as column and average interest rate as value\n",
    "#print(s)\n",
    "plt.figure(figsize=[16,8]) # set plot size as 16 by 8\n",
    "sns.boxplot(x='addr_state',y='int_rate',data=int_rate_data_state) # create box plot of above pivot talbe"
   ]
  },
  {
   "cell_type": "code",
   "execution_count": 9,
   "metadata": {},
   "outputs": [],
   "source": [
    "# there is no big difference of interst rate by states\n",
    "# drop 'addr_state' feature from cap2_data1 dataset\n",
    "cap2_data1.drop('addr_state',axis=1,inplace=True)"
   ]
  },
  {
   "cell_type": "code",
   "execution_count": 10,
   "metadata": {},
   "outputs": [],
   "source": [
    "#'earliest_cr_line' feature only keeps the year information\n",
    "# year 2019 data is in a different format and can not be extracted from to_datetime commend\n",
    "# replace value '2019' with N/A values which are actually year 2019 values\n",
    "# define 'earliest_cr_line' as float type\n",
    "\n",
    "cap2_data1.earliest_cr_line=pd.to_datetime(cap2_data1.earliest_cr_line,errors='coerce')\n",
    "cap2_data1['earliest_cr_line']=cap2_data1.earliest_cr_line.dt.year.fillna('2019')\n",
    "cap2_data1.earliest_cr_line=cap2_data1.earliest_cr_line.astype('float64')\n",
    "\n",
    "#print(cap2_data1.earliest_cr_line)"
   ]
  },
  {
   "cell_type": "code",
   "execution_count": 11,
   "metadata": {},
   "outputs": [
    {
     "name": "stdout",
     "output_type": "stream",
     "text": [
      "       grade home_ownership verification_status         loan_status  \\\n",
      "0          C       MORTGAGE        Not Verified          Fully Paid   \n",
      "1          C       MORTGAGE        Not Verified         Charged Off   \n",
      "2          B           RENT        Not Verified          Fully Paid   \n",
      "3          C       MORTGAGE        Not Verified             Current   \n",
      "4          C       MORTGAGE            Verified             Current   \n",
      "...      ...            ...                 ...                 ...   \n",
      "300271     D       MORTGAGE        Not Verified  Late (31-120 days)   \n",
      "300272     C       MORTGAGE            Verified             Current   \n",
      "300273     B       MORTGAGE        Not Verified             Current   \n",
      "300274     D       MORTGAGE        Not Verified             Current   \n",
      "300275     A       MORTGAGE            Verified             Current   \n",
      "\n",
      "       pymnt_plan             purpose initial_list_status application_type  \\\n",
      "0               n         credit_card                   w       Individual   \n",
      "1               n      small_business                   w       Individual   \n",
      "2               n  debt_consolidation                   w       Individual   \n",
      "3               n  debt_consolidation                   w       Individual   \n",
      "4               n  debt_consolidation                   w       Individual   \n",
      "...           ...                 ...                 ...              ...   \n",
      "300271          n  debt_consolidation                   f        Joint App   \n",
      "300272          n               other                   w        Joint App   \n",
      "300273          n  debt_consolidation                   f       Individual   \n",
      "300274          n    home_improvement                   w        Joint App   \n",
      "300275          n  debt_consolidation                   w       Individual   \n",
      "\n",
      "       hardship_flag debt_settlement_flag  \n",
      "0                  N                    N  \n",
      "1                  N                    N  \n",
      "2                  N                    N  \n",
      "3                  N                    N  \n",
      "4                  N                    N  \n",
      "...              ...                  ...  \n",
      "300271             N                    N  \n",
      "300272             N                    N  \n",
      "300273             N                    N  \n",
      "300274             N                    N  \n",
      "300275             N                    N  \n",
      "\n",
      "[300276 rows x 10 columns]\n"
     ]
    }
   ],
   "source": [
    "# extract out all the string columns\n",
    "str_col=cap2_data1.select_dtypes(['object'])\n",
    "#for item in str_col:\n",
    "    #print(item)\n",
    "print(str_col)"
   ]
  },
  {
   "cell_type": "code",
   "execution_count": 12,
   "metadata": {},
   "outputs": [
    {
     "name": "stderr",
     "output_type": "stream",
     "text": [
      "C:\\Users\\HP\\Anaconda3\\lib\\site-packages\\ipykernel_launcher.py:9: FutureWarning: \n",
      ".ix is deprecated. Please use\n",
      ".loc for label based indexing or\n",
      ".iloc for positional indexing\n",
      "\n",
      "See the documentation here:\n",
      "http://pandas.pydata.org/pandas-docs/stable/user_guide/indexing.html#ix-indexer-is-deprecated\n",
      "  if __name__ == '__main__':\n"
     ]
    },
    {
     "name": "stdout",
     "output_type": "stream",
     "text": [
      "        funded_amnt  term  int_rate  grade  home_ownership  annual_inc  \\\n",
      "0           16000.0  60.0     14.85      2               1     48000.0   \n",
      "1           16000.0  36.0     12.88      2               1     65000.0   \n",
      "2           12000.0  36.0     10.78      1               4     98000.0   \n",
      "3           16800.0  60.0     12.88      2               1    118000.0   \n",
      "4           16000.0  60.0     13.99      2               1    142000.0   \n",
      "...             ...   ...       ...    ...             ...         ...   \n",
      "300271      39975.0  36.0     25.00      3               1         0.0   \n",
      "300272      13425.0  60.0     15.24      2               1     48000.0   \n",
      "300273      10000.0  36.0     11.02      1               1    160000.0   \n",
      "300274      20000.0  60.0     20.00      3               1     55000.0   \n",
      "300275      10000.0  36.0      8.81      0               1     52116.0   \n",
      "\n",
      "        verification_status  loan_status  pymnt_plan  purpose  ...  \\\n",
      "0                         0            3           0        1  ...   \n",
      "1                         0            0           0       10  ...   \n",
      "2                         0            3           0        2  ...   \n",
      "3                         0            1           0        2  ...   \n",
      "4                         2            1           0        2  ...   \n",
      "...                     ...          ...         ...      ...  ...   \n",
      "300271                    0            6           0        2  ...   \n",
      "300272                    2            1           0        8  ...   \n",
      "300273                    0            1           0        2  ...   \n",
      "300274                    0            1           0        3  ...   \n",
      "300275                    2            1           0        2  ...   \n",
      "\n",
      "        collections_12_mths_ex_med  application_type  acc_now_delinq  \\\n",
      "0                              0.0                 0             0.0   \n",
      "1                              0.0                 0             0.0   \n",
      "2                              0.0                 0             0.0   \n",
      "3                              0.0                 0             0.0   \n",
      "4                              0.0                 0             0.0   \n",
      "...                            ...               ...             ...   \n",
      "300271                         0.0                 1             0.0   \n",
      "300272                         0.0                 1             0.0   \n",
      "300273                         0.0                 0             0.0   \n",
      "300274                         0.0                 1             0.0   \n",
      "300275                         0.0                 0             0.0   \n",
      "\n",
      "        chargeoff_within_12_mths  delinq_amnt  pub_rec_bankruptcies  \\\n",
      "0                            0.0          0.0                   0.0   \n",
      "1                            0.0          0.0                   0.0   \n",
      "2                            0.0          0.0                   0.0   \n",
      "3                            0.0          0.0                   0.0   \n",
      "4                            0.0          0.0                   0.0   \n",
      "...                          ...          ...                   ...   \n",
      "300271                       0.0          0.0                   0.0   \n",
      "300272                       0.0          0.0                   0.0   \n",
      "300273                       0.0          0.0                   0.0   \n",
      "300274                       0.0          0.0                   0.0   \n",
      "300275                       0.0          0.0                   0.0   \n",
      "\n",
      "        tax_liens  hardship_flag  debt_settlement_flag  issue_y  \n",
      "0             2.0              0                     0   2015.0  \n",
      "1             1.0              0                     0   2015.0  \n",
      "2             0.0              0                     0   2015.0  \n",
      "3             0.0              0                     0   2015.0  \n",
      "4             2.0              0                     0   2015.0  \n",
      "...           ...            ...                   ...      ...  \n",
      "300271        0.0              0                     0   2019.0  \n",
      "300272        0.0              0                     0   2019.0  \n",
      "300273        0.0              0                     0   2019.0  \n",
      "300274        0.0              0                     0   2019.0  \n",
      "300275        0.0              0                     0   2019.0  \n",
      "\n",
      "[300276 rows x 39 columns]\n",
      "(300276, 39)\n"
     ]
    }
   ],
   "source": [
    "# use labelEncoder to transform all the string features into numerical values\n",
    "\n",
    "from sklearn.preprocessing import LabelEncoder\n",
    "\n",
    "\n",
    "le=LabelEncoder() #initiate LabelEncoder\n",
    "\n",
    "for col in str_col: # for all columns in str_col\n",
    "    cap2_data1.ix[:,col]=le.fit_transform(cap2_data1.ix[:,col]) # transfer string values into numerical values \n",
    "print(cap2_data1)\n",
    "print(cap2_data1.shape)"
   ]
  },
  {
   "cell_type": "code",
   "execution_count": 13,
   "metadata": {},
   "outputs": [
    {
     "name": "stderr",
     "output_type": "stream",
     "text": [
      "C:\\Users\\HP\\Anaconda3\\lib\\site-packages\\ipykernel_launcher.py:2: FutureWarning: \n",
      ".ix is deprecated. Please use\n",
      ".loc for label based indexing or\n",
      ".iloc for positional indexing\n",
      "\n",
      "See the documentation here:\n",
      "http://pandas.pydata.org/pandas-docs/stable/user_guide/indexing.html#ix-indexer-is-deprecated\n",
      "  \n",
      "C:\\Users\\HP\\Anaconda3\\lib\\site-packages\\ipykernel_launcher.py:5: FutureWarning: \n",
      ".ix is deprecated. Please use\n",
      ".loc for label based indexing or\n",
      ".iloc for positional indexing\n",
      "\n",
      "See the documentation here:\n",
      "http://pandas.pydata.org/pandas-docs/stable/user_guide/indexing.html#ix-indexer-is-deprecated\n",
      "  \"\"\"\n"
     ]
    }
   ],
   "source": [
    "#split the dataset into training and testing dataset\n",
    "cap2_test=cap2_data1.ix[(cap2_data1.issue_y==2015) | (cap2_data1.issue_y==2016)] # year 2015 & 2016 as test dataset\n",
    "cap2_test_feature=cap2_test.drop('int_rate',axis=1) # drop target variable from test dataset\n",
    "cap2_test_target=cap2_test.int_rate # set target variable in test dataset\n",
    "cap2_train=cap2_data1.ix[(cap2_data1.issue_y!=2015) & (cap2_data1.issue_y!=2016)] # year not equal to 2015 and 2016 as training dataset\n",
    "cap2_train_feature=cap2_train.drop('int_rate',axis=1) # drop target variable from training dataset\n",
    "cap2_train_target=cap2_train.int_rate"
   ]
  },
  {
   "cell_type": "code",
   "execution_count": 14,
   "metadata": {},
   "outputs": [
    {
     "data": {
      "text/html": [
       "<div>\n",
       "<style scoped>\n",
       "    .dataframe tbody tr th:only-of-type {\n",
       "        vertical-align: middle;\n",
       "    }\n",
       "\n",
       "    .dataframe tbody tr th {\n",
       "        vertical-align: top;\n",
       "    }\n",
       "\n",
       "    .dataframe thead th {\n",
       "        text-align: right;\n",
       "    }\n",
       "</style>\n",
       "<table border=\"1\" class=\"dataframe\">\n",
       "  <thead>\n",
       "    <tr style=\"text-align: right;\">\n",
       "      <th></th>\n",
       "      <th>funded_amnt</th>\n",
       "      <th>term</th>\n",
       "      <th>grade</th>\n",
       "      <th>home_ownership</th>\n",
       "      <th>annual_inc</th>\n",
       "      <th>verification_status</th>\n",
       "      <th>loan_status</th>\n",
       "      <th>pymnt_plan</th>\n",
       "      <th>purpose</th>\n",
       "      <th>dti</th>\n",
       "      <th>...</th>\n",
       "      <th>collections_12_mths_ex_med</th>\n",
       "      <th>application_type</th>\n",
       "      <th>acc_now_delinq</th>\n",
       "      <th>chargeoff_within_12_mths</th>\n",
       "      <th>delinq_amnt</th>\n",
       "      <th>pub_rec_bankruptcies</th>\n",
       "      <th>tax_liens</th>\n",
       "      <th>hardship_flag</th>\n",
       "      <th>debt_settlement_flag</th>\n",
       "      <th>issue_y</th>\n",
       "    </tr>\n",
       "  </thead>\n",
       "  <tbody>\n",
       "    <tr>\n",
       "      <td>1703</td>\n",
       "      <td>11200.0</td>\n",
       "      <td>60.0</td>\n",
       "      <td>6</td>\n",
       "      <td>4</td>\n",
       "      <td>44000.0</td>\n",
       "      <td>0</td>\n",
       "      <td>1</td>\n",
       "      <td>0</td>\n",
       "      <td>6</td>\n",
       "      <td>43.97</td>\n",
       "      <td>...</td>\n",
       "      <td>0.0</td>\n",
       "      <td>1</td>\n",
       "      <td>0.0</td>\n",
       "      <td>0.0</td>\n",
       "      <td>0.0</td>\n",
       "      <td>0.0</td>\n",
       "      <td>0.0</td>\n",
       "      <td>0</td>\n",
       "      <td>0</td>\n",
       "      <td>2018.0</td>\n",
       "    </tr>\n",
       "    <tr>\n",
       "      <td>1704</td>\n",
       "      <td>17000.0</td>\n",
       "      <td>60.0</td>\n",
       "      <td>3</td>\n",
       "      <td>4</td>\n",
       "      <td>52000.0</td>\n",
       "      <td>1</td>\n",
       "      <td>1</td>\n",
       "      <td>0</td>\n",
       "      <td>2</td>\n",
       "      <td>15.65</td>\n",
       "      <td>...</td>\n",
       "      <td>0.0</td>\n",
       "      <td>0</td>\n",
       "      <td>0.0</td>\n",
       "      <td>0.0</td>\n",
       "      <td>0.0</td>\n",
       "      <td>0.0</td>\n",
       "      <td>0.0</td>\n",
       "      <td>0</td>\n",
       "      <td>0</td>\n",
       "      <td>2018.0</td>\n",
       "    </tr>\n",
       "    <tr>\n",
       "      <td>1705</td>\n",
       "      <td>20000.0</td>\n",
       "      <td>36.0</td>\n",
       "      <td>1</td>\n",
       "      <td>1</td>\n",
       "      <td>19000.0</td>\n",
       "      <td>2</td>\n",
       "      <td>1</td>\n",
       "      <td>0</td>\n",
       "      <td>2</td>\n",
       "      <td>45.17</td>\n",
       "      <td>...</td>\n",
       "      <td>0.0</td>\n",
       "      <td>1</td>\n",
       "      <td>0.0</td>\n",
       "      <td>0.0</td>\n",
       "      <td>0.0</td>\n",
       "      <td>0.0</td>\n",
       "      <td>0.0</td>\n",
       "      <td>0</td>\n",
       "      <td>0</td>\n",
       "      <td>2018.0</td>\n",
       "    </tr>\n",
       "    <tr>\n",
       "      <td>1706</td>\n",
       "      <td>19200.0</td>\n",
       "      <td>60.0</td>\n",
       "      <td>3</td>\n",
       "      <td>4</td>\n",
       "      <td>36500.0</td>\n",
       "      <td>2</td>\n",
       "      <td>1</td>\n",
       "      <td>0</td>\n",
       "      <td>8</td>\n",
       "      <td>19.76</td>\n",
       "      <td>...</td>\n",
       "      <td>3.0</td>\n",
       "      <td>1</td>\n",
       "      <td>0.0</td>\n",
       "      <td>0.0</td>\n",
       "      <td>0.0</td>\n",
       "      <td>0.0</td>\n",
       "      <td>0.0</td>\n",
       "      <td>0</td>\n",
       "      <td>0</td>\n",
       "      <td>2018.0</td>\n",
       "    </tr>\n",
       "    <tr>\n",
       "      <td>1707</td>\n",
       "      <td>3100.0</td>\n",
       "      <td>36.0</td>\n",
       "      <td>1</td>\n",
       "      <td>1</td>\n",
       "      <td>85000.0</td>\n",
       "      <td>0</td>\n",
       "      <td>1</td>\n",
       "      <td>0</td>\n",
       "      <td>11</td>\n",
       "      <td>9.12</td>\n",
       "      <td>...</td>\n",
       "      <td>0.0</td>\n",
       "      <td>0</td>\n",
       "      <td>0.0</td>\n",
       "      <td>0.0</td>\n",
       "      <td>0.0</td>\n",
       "      <td>0.0</td>\n",
       "      <td>0.0</td>\n",
       "      <td>0</td>\n",
       "      <td>0</td>\n",
       "      <td>2018.0</td>\n",
       "    </tr>\n",
       "  </tbody>\n",
       "</table>\n",
       "<p>5 rows × 38 columns</p>\n",
       "</div>"
      ],
      "text/plain": [
       "      funded_amnt  term  grade  home_ownership  annual_inc  \\\n",
       "1703      11200.0  60.0      6               4     44000.0   \n",
       "1704      17000.0  60.0      3               4     52000.0   \n",
       "1705      20000.0  36.0      1               1     19000.0   \n",
       "1706      19200.0  60.0      3               4     36500.0   \n",
       "1707       3100.0  36.0      1               1     85000.0   \n",
       "\n",
       "      verification_status  loan_status  pymnt_plan  purpose    dti  ...  \\\n",
       "1703                    0            1           0        6  43.97  ...   \n",
       "1704                    1            1           0        2  15.65  ...   \n",
       "1705                    2            1           0        2  45.17  ...   \n",
       "1706                    2            1           0        8  19.76  ...   \n",
       "1707                    0            1           0       11   9.12  ...   \n",
       "\n",
       "      collections_12_mths_ex_med  application_type  acc_now_delinq  \\\n",
       "1703                         0.0                 1             0.0   \n",
       "1704                         0.0                 0             0.0   \n",
       "1705                         0.0                 1             0.0   \n",
       "1706                         3.0                 1             0.0   \n",
       "1707                         0.0                 0             0.0   \n",
       "\n",
       "      chargeoff_within_12_mths  delinq_amnt  pub_rec_bankruptcies  tax_liens  \\\n",
       "1703                       0.0          0.0                   0.0        0.0   \n",
       "1704                       0.0          0.0                   0.0        0.0   \n",
       "1705                       0.0          0.0                   0.0        0.0   \n",
       "1706                       0.0          0.0                   0.0        0.0   \n",
       "1707                       0.0          0.0                   0.0        0.0   \n",
       "\n",
       "      hardship_flag  debt_settlement_flag  issue_y  \n",
       "1703              0                     0   2018.0  \n",
       "1704              0                     0   2018.0  \n",
       "1705              0                     0   2018.0  \n",
       "1706              0                     0   2018.0  \n",
       "1707              0                     0   2018.0  \n",
       "\n",
       "[5 rows x 38 columns]"
      ]
     },
     "execution_count": 14,
     "metadata": {},
     "output_type": "execute_result"
    }
   ],
   "source": [
    "cap2_train_feature.head()"
   ]
  },
  {
   "cell_type": "code",
   "execution_count": 15,
   "metadata": {},
   "outputs": [
    {
     "data": {
      "text/plain": [
       "<BarContainer object of 38 artists>"
      ]
     },
     "execution_count": 15,
     "metadata": {},
     "output_type": "execute_result"
    },
    {
     "data": {
      "image/png": "[encoded data removed]",
      "text/plain": [
       "<Figure size 720x648 with 1 Axes>"
      ]
     },
     "metadata": {
      "needs_background": "light"
     },
     "output_type": "display_data"
    }
   ],
   "source": [
    "from sklearn.linear_model import LinearRegression # import linear Regression\n",
    "from scipy import stats\n",
    "\n",
    "model=LinearRegression() #initiate linear regression model\n",
    "model.fit(cap2_train_feature,cap2_train_target) # fit the traing dataset into linear regression model\n",
    "plt.figure(figsize=[10,9]) # set \n",
    "plt.barh(cap2_train_feature.columns,model.coef_)\n",
    "#print(type(model.coef_))"
   ]
  },
  {
   "cell_type": "code",
   "execution_count": 16,
   "metadata": {},
   "outputs": [
    {
     "name": "stdout",
     "output_type": "stream",
     "text": [
      "                                 OLS Regression Results                                \n",
      "=======================================================================================\n",
      "Dep. Variable:               int_rate   R-squared (uncentered):                   0.990\n",
      "Model:                            OLS   Adj. R-squared (uncentered):              0.990\n",
      "Method:                 Least Squares   F-statistic:                          6.895e+05\n",
      "Date:                Sun, 14 Jun 2020   Prob (F-statistic):                        0.00\n",
      "Time:                        22:28:07   Log-Likelihood:                     -4.6357e+05\n",
      "No. Observations:              258536   AIC:                                  9.272e+05\n",
      "Df Residuals:                  258498   BIC:                                  9.276e+05\n",
      "Df Model:                          38                                                  \n",
      "Covariance Type:            nonrobust                                                  \n",
      "==============================================================================================\n",
      "                                 coef    std err          t      P>|t|      [0.025      0.975]\n",
      "----------------------------------------------------------------------------------------------\n",
      "funded_amnt                  5.75e-06   1.13e-06      5.082      0.000    3.53e-06    7.97e-06\n",
      "term                          -0.0077      0.000    -23.897      0.000      -0.008      -0.007\n",
      "grade                          4.0860      0.004   1135.049      0.000       4.079       4.093\n",
      "home_ownership                 0.0143      0.002      6.466      0.000       0.010       0.019\n",
      "annual_inc                  1.709e-07   3.79e-08      4.513      0.000    9.67e-08    2.45e-07\n",
      "verification_status            0.0553      0.004     14.985      0.000       0.048       0.063\n",
      "loan_status                    0.0307      0.003      9.054      0.000       0.024       0.037\n",
      "pymnt_plan                    -0.1406      0.122     -1.151      0.250      -0.380       0.099\n",
      "purpose                        0.0106      0.001      7.499      0.000       0.008       0.013\n",
      "dti                            0.0005   7.52e-05      6.830      0.000       0.000       0.001\n",
      "delinq_2yrs                    0.0172      0.003      6.090      0.000       0.012       0.023\n",
      "earliest_cr_line               0.0203      0.000     71.801      0.000       0.020       0.021\n",
      "fico_range_high               -0.0016      0.000    -12.908      0.000      -0.002      -0.001\n",
      "inq_last_6mths                 0.0696      0.004     17.113      0.000       0.062       0.078\n",
      "open_acc                       0.0034      0.001      4.491      0.000       0.002       0.005\n",
      "pub_rec                       -0.2068      0.021     -9.801      0.000      -0.248      -0.165\n",
      "revol_bal                   3.377e-07   1.55e-07      2.185      0.029    3.48e-08    6.41e-07\n",
      "revol_util                     0.0015      0.000     10.402      0.000       0.001       0.002\n",
      "total_acc                      0.0002      0.000      0.455      0.649      -0.001       0.001\n",
      "initial_list_status            0.0447      0.009      5.194      0.000       0.028       0.062\n",
      "out_prncp_inv               7.346e-06   1.11e-06      6.605      0.000    5.17e-06    9.53e-06\n",
      "total_rec_prncp               -0.0001   1.58e-06    -72.356      0.000      -0.000      -0.000\n",
      "total_rec_int                  0.0001   2.77e-06     38.216      0.000       0.000       0.000\n",
      "total_rec_late_fee            -0.0004      0.000     -1.757      0.079      -0.001    5.11e-05\n",
      "collection_recovery_fee      5.99e-06   3.99e-05      0.150      0.881   -7.23e-05    8.43e-05\n",
      "last_pymnt_amnt                0.0001   1.27e-06     85.102      0.000       0.000       0.000\n",
      "last_fico_range_high          -0.0004      0.000     -3.351      0.001      -0.001      -0.000\n",
      "last_fico_range_low            0.0001   9.78e-05      1.069      0.285   -8.72e-05       0.000\n",
      "collections_12_mths_ex_med    -0.0622      0.020     -3.034      0.002      -0.102      -0.022\n",
      "application_type               0.0899      0.007     12.133      0.000       0.075       0.104\n",
      "acc_now_delinq                -0.3067      0.070     -4.373      0.000      -0.444      -0.169\n",
      "chargeoff_within_12_mths      -0.0140      0.023     -0.608      0.543      -0.059       0.031\n",
      "delinq_amnt                 5.241e-06   6.77e-06      0.774      0.439   -8.04e-06    1.85e-05\n",
      "pub_rec_bankruptcies           0.1096      0.022      4.874      0.000       0.066       0.154\n",
      "tax_liens                      0.1139      0.023      4.923      0.000       0.069       0.159\n",
      "hardship_flag                 -0.2270      0.105     -2.155      0.031      -0.433      -0.021\n",
      "debt_settlement_flag          -0.2540      0.024    -10.447      0.000      -0.302      -0.206\n",
      "issue_y                       -0.0160      0.000    -55.241      0.000      -0.017      -0.015\n",
      "==============================================================================\n",
      "Omnibus:                    67465.981   Durbin-Watson:                   1.858\n",
      "Prob(Omnibus):                  0.000   Jarque-Bera (JB):           679934.843\n",
      "Skew:                           0.968   Prob(JB):                         0.00\n",
      "Kurtosis:                      10.705   Cond. No.                     5.99e+06\n",
      "==============================================================================\n",
      "\n",
      "Warnings:\n",
      "[1] Standard Errors assume that the covariance matrix of the errors is correctly specified.\n",
      "[2] The condition number is large, 5.99e+06. This might indicate that there are\n",
      "strong multicollinearity or other numerical problems.\n"
     ]
    }
   ],
   "source": [
    "from statsmodels import api as sm\n",
    "from scipy import stats\n",
    "\n",
    "lr=sm.OLS(cap2_train_target,cap2_train_feature) #initiate linear regression model\n",
    "result=lr.fit() # fit the traing dataset into linear regression model\n",
    "print(result.summary()) # print out summary report"
   ]
  },
  {
   "cell_type": "code",
   "execution_count": 17,
   "metadata": {},
   "outputs": [
    {
     "name": "stdout",
     "output_type": "stream",
     "text": [
      "                                 OLS Regression Results                                \n",
      "=======================================================================================\n",
      "Dep. Variable:               int_rate   R-squared (uncentered):                   0.990\n",
      "Model:                            OLS   Adj. R-squared (uncentered):              0.990\n",
      "Method:                 Least Squares   F-statistic:                          8.452e+05\n",
      "Date:                Sun, 14 Jun 2020   Prob (F-statistic):                        0.00\n",
      "Time:                        22:28:10   Log-Likelihood:                     -4.6359e+05\n",
      "No. Observations:              258536   AIC:                                  9.272e+05\n",
      "Df Residuals:                  258505   BIC:                                  9.276e+05\n",
      "Df Model:                          31                                                  \n",
      "Covariance Type:            nonrobust                                                  \n",
      "==============================================================================================\n",
      "                                 coef    std err          t      P>|t|      [0.025      0.975]\n",
      "----------------------------------------------------------------------------------------------\n",
      "funded_amnt                  5.94e-06   1.03e-06      5.782      0.000    3.93e-06    7.95e-06\n",
      "term                          -0.0074      0.000    -23.374      0.000      -0.008      -0.007\n",
      "grade                          4.0832      0.004   1145.565      0.000       4.076       4.090\n",
      "home_ownership                 0.0141      0.002      6.363      0.000       0.010       0.018\n",
      "annual_inc                  1.815e-07   3.76e-08      4.828      0.000    1.08e-07    2.55e-07\n",
      "verification_status            0.0553      0.004     14.975      0.000       0.048       0.062\n",
      "loan_status                    0.0307      0.003      9.069      0.000       0.024       0.037\n",
      "purpose                        0.0105      0.001      7.439      0.000       0.008       0.013\n",
      "dti                            0.0005   7.51e-05      6.985      0.000       0.000       0.001\n",
      "delinq_2yrs                    0.0170      0.003      6.033      0.000       0.011       0.022\n",
      "earliest_cr_line               0.0202      0.000     72.198      0.000       0.020       0.021\n",
      "fico_range_high               -0.0016      0.000    -13.032      0.000      -0.002      -0.001\n",
      "inq_last_6mths                 0.0695      0.004     17.098      0.000       0.062       0.077\n",
      "open_acc                       0.0037      0.001      4.964      0.000       0.002       0.005\n",
      "pub_rec                       -0.2086      0.021     -9.888      0.000      -0.250      -0.167\n",
      "revol_util                     0.0016      0.000     11.461      0.000       0.001       0.002\n",
      "total_acc                      0.0002      0.000      0.467      0.640      -0.001       0.001\n",
      "out_prncp_inv               7.428e-06   1.01e-06      7.355      0.000    5.45e-06    9.41e-06\n",
      "total_rec_prncp               -0.0001    1.5e-06    -76.079      0.000      -0.000      -0.000\n",
      "total_rec_int                  0.0001   2.77e-06     38.175      0.000       0.000       0.000\n",
      "total_rec_late_fee            -0.0004      0.000     -1.745      0.081      -0.001    5.39e-05\n",
      "last_pymnt_amnt                0.0001   1.27e-06     85.450      0.000       0.000       0.000\n",
      "last_fico_range_high          -0.0003   7.25e-05     -4.503      0.000      -0.000      -0.000\n",
      "collections_12_mths_ex_med    -0.0631      0.020     -3.078      0.002      -0.103      -0.023\n",
      "application_type               0.0914      0.007     12.365      0.000       0.077       0.106\n",
      "acc_now_delinq                -0.2980      0.069     -4.310      0.000      -0.434      -0.162\n",
      "pub_rec_bankruptcies           0.1105      0.022      4.914      0.000       0.066       0.155\n",
      "tax_liens                      0.1152      0.023      4.979      0.000       0.070       0.161\n",
      "hardship_flag                 -0.3299      0.056     -5.846      0.000      -0.441      -0.219\n",
      "debt_settlement_flag          -0.2620      0.024    -10.917      0.000      -0.309      -0.215\n",
      "issue_y                       -0.0159      0.000    -55.417      0.000      -0.016      -0.015\n",
      "==============================================================================\n",
      "Omnibus:                    67577.337   Durbin-Watson:                   1.858\n",
      "Prob(Omnibus):                  0.000   Jarque-Bera (JB):           681745.696\n",
      "Skew:                           0.970   Prob(JB):                         0.00\n",
      "Kurtosis:                      10.715   Cond. No.                     2.65e+06\n",
      "==============================================================================\n",
      "\n",
      "Warnings:\n",
      "[1] Standard Errors assume that the covariance matrix of the errors is correctly specified.\n",
      "[2] The condition number is large, 2.65e+06. This might indicate that there are\n",
      "strong multicollinearity or other numerical problems.\n",
      "0         14.663753\n",
      "1         13.759921\n",
      "2         10.777843\n",
      "3         14.394078\n",
      "4         14.972492\n",
      "            ...    \n",
      "219188    10.797234\n",
      "219189    14.447407\n",
      "219190    15.009958\n",
      "219191    10.428867\n",
      "219192    14.897919\n",
      "Length: 41740, dtype: float64\n"
     ]
    }
   ],
   "source": [
    "#drop features that have p-value greater or equal to 0.05\n",
    "# drop those features from both training and testing dataset\n",
    "cap2_train_feature_r=cap2_train_feature.drop(['delinq_amnt','chargeoff_within_12_mths','last_fico_range_low','collection_recovery_fee','initial_list_status','revol_bal','pymnt_plan'],axis=1)\n",
    "cap2_test_feature_r=cap2_test_feature.drop(['delinq_amnt','chargeoff_within_12_mths','last_fico_range_low','collection_recovery_fee','initial_list_status','revol_bal','pymnt_plan'],axis=1)\n",
    "\n",
    "lr_r=sm.OLS(cap2_train_target,cap2_train_feature_r) # put the new training dataset into linear regression model\n",
    "result_r=lr_r.fit() #name the training model result as result_r\n",
    "print(result_r.summary())\n",
    "cap2_pred=result_r.predict(cap2_test_feature_r) # make predictions on testing dataset\n",
    "print(cap2_pred) # print out prediction values"
   ]
  },
  {
   "cell_type": "code",
   "execution_count": 18,
   "metadata": {},
   "outputs": [
    {
     "name": "stdout",
     "output_type": "stream",
     "text": [
      "0.8882406924828788\n",
      "2.6565221767828793\n"
     ]
    }
   ],
   "source": [
    "from sklearn.metrics import r2_score # import R-squared from metrics liabrary\n",
    "from sklearn.metrics import mean_squared_error # import mean squared value from metrics liabrary\n",
    "\n",
    "r2_score_lr=r2_score(cap2_test_target,cap2_pred) #calculate liner regression R_squared value\n",
    "print(r2_score_lr) # print out linear regression modelR-squared value\n",
    "print(mean_squared_error(cap2_test_target,cap2_pred)) # print out linear regression model mean squared value"
   ]
  },
  {
   "cell_type": "code",
   "execution_count": 19,
   "metadata": {},
   "outputs": [
    {
     "name": "stdout",
     "output_type": "stream",
     "text": [
      "258536\n",
      "31\n",
      "0.8882272902201168\n"
     ]
    }
   ],
   "source": [
    "n=cap2_train_feature_r.shape[0]\n",
    "k=cap2_train_feature_r.shape[1]\n",
    "print(n)\n",
    "print(k)\n",
    "\n",
    "adj_r2_score_lr=1-(1-r2_score_lr)*((n-1)/(n-k-1))\n",
    "print(adj_r2_score_lr)"
   ]
  },
  {
   "cell_type": "code",
   "execution_count": 23,
   "metadata": {},
   "outputs": [
    {
     "data": {
      "image/png": "[encoded data removed]",
      "text/plain": [
       "<Figure size 432x288 with 1 Axes>"
      ]
     },
     "metadata": {
      "needs_background": "light"
     },
     "output_type": "display_data"
    }
   ],
   "source": [
    "# plot the linear regression prediction VS actual interest rate\n",
    "\n",
    "plt.figure(figsize=[6,4]) # set plot size\n",
    "sns.distplot(cap2_test_target,color='red') # plot histgram of actual interst rate\n",
    "sns.distplot(cap2_pred,color='blue') # plot histgram of linear regression prediction\n",
    "plt.legend(['Actual Interest Rate','Linear Predict Interest Rate']) # plot legend on the histgram\n",
    "plt.xlabel('Period') # name the xlabel\n",
    "plt.ylabel('Interest Rate') # name the ylabel\n",
    "plt.title('Linear Regression Prediction') #give title to the plot\n",
    "plt.xlim([0,35]) # set limit to the x-axis\n",
    "plt.show() # show the plot"
   ]
  },
  {
   "cell_type": "code",
   "execution_count": 37,
   "metadata": {},
   "outputs": [
    {
     "data": {
      "text/plain": [
       "GridSearchCV(cv=None, error_score=nan,\n",
       "             estimator=Lasso(alpha=1.0, copy_X=True, fit_intercept=True,\n",
       "                             max_iter=1000, normalize=False, positive=False,\n",
       "                             precompute=False, random_state=None,\n",
       "                             selection='cyclic', tol=0.0001, warm_start=False),\n",
       "             iid='deprecated', n_jobs=None,\n",
       "             param_grid={'alpha': [0.01, 0.1, 10, 100]},\n",
       "             pre_dispatch='2*n_jobs', refit=True, return_train_score=False,\n",
       "             scoring=None, verbose=0)"
      ]
     },
     "execution_count": 37,
     "metadata": {},
     "output_type": "execute_result"
    }
   ],
   "source": [
    "from sklearn.linear_model import Lasso  # import lasso regression\n",
    "from sklearn.model_selection import GridSearchCV # import grid search cross validation\n",
    "\n",
    "lasso=Lasso() #initiate lasso regression\n",
    "parameters={'alpha':[0.01,0.1,10,100]} # set different values of alpa parameter\n",
    "clf=GridSearchCV(lasso,parameters) # launch grid seach cross validation to find best alpha value\n",
    "clf.fit(cap2_train_feature_r,cap2_train_target) # pass in training dataset\n"
   ]
  },
  {
   "cell_type": "code",
   "execution_count": 38,
   "metadata": {},
   "outputs": [
    {
     "name": "stdout",
     "output_type": "stream",
     "text": [
      "0.9246156124823461\n",
      "{'alpha': 0.01}\n"
     ]
    }
   ],
   "source": [
    "print(clf.best_score_) # print out best cross validation score\n",
    "print(clf.best_params_) # print out alpha value"
   ]
  },
  {
   "cell_type": "code",
   "execution_count": 27,
   "metadata": {},
   "outputs": [
    {
     "name": "stdout",
     "output_type": "stream",
     "text": [
      "                  feature_name  coefficient\n",
      "0                  funded_amnt      0.00000\n",
      "1                         term     -0.00414\n",
      "2                        grade      4.06178\n",
      "3               home_ownership      0.01597\n",
      "4                   annual_inc     -0.00000\n",
      "5          verification_status      0.05617\n",
      "6                  loan_status      0.02501\n",
      "7                      purpose      0.00697\n",
      "8                          dti      0.00045\n",
      "9                  delinq_2yrs      0.00549\n",
      "10            earliest_cr_line      0.00640\n",
      "11             fico_range_high     -0.00128\n",
      "12              inq_last_6mths      0.04909\n",
      "13                    open_acc      0.00391\n",
      "14                     pub_rec     -0.01512\n",
      "15                  revol_util      0.00182\n",
      "16                   total_acc     -0.00159\n",
      "17               out_prncp_inv     -0.00001\n",
      "18             total_rec_prncp     -0.00008\n",
      "19               total_rec_int      0.00021\n",
      "20          total_rec_late_fee     -0.00027\n",
      "21             last_pymnt_amnt      0.00007\n",
      "22        last_fico_range_high     -0.00072\n",
      "23  collections_12_mths_ex_med     -0.00000\n",
      "24            application_type      0.00490\n",
      "25              acc_now_delinq     -0.00000\n",
      "26        pub_rec_bankruptcies     -0.00000\n",
      "27                   tax_liens     -0.00000\n",
      "28               hardship_flag     -0.00000\n",
      "29        debt_settlement_flag     -0.00000\n",
      "30                     issue_y      0.65878\n"
     ]
    }
   ],
   "source": [
    "# training lasso regression model\n",
    "from sklearn.linear_model import Lasso\n",
    "\n",
    "lasso2=Lasso(alpha=0.01) # training lasso regression with best alpha value\n",
    "feature_coef=lasso2.fit(cap2_train_feature_r,cap2_train_target).coef_  # print out features coefficient\n",
    "feature_df=pd.DataFrame({'feature_name': cap2_train_feature_r.columns,'coefficient':np.round_(feature_coef,decimals=5)}) # put feature name and coefficent into dataframe\n",
    "print(feature_df) # print out dataframe"
   ]
  },
  {
   "cell_type": "code",
   "execution_count": 24,
   "metadata": {},
   "outputs": [],
   "source": [
    "# drop features due to lasso regularization\n",
    "# drop features whose coefficient values are 0 from both training and testing dataset\n",
    "\n",
    "cap2_train_feature_r_lasso=cap2_train_feature_r.drop(['funded_amnt','annual_inc','out_prncp_inv','total_rec_prncp','last_pymnt_amnt','collections_12_mths_ex_med','acc_now_delinq','pub_rec_bankruptcies','tax_liens','debt_settlement_flag','hardship_flag'],axis=1)\n",
    "cap2_test_feature_r_lasso=cap2_test_feature_r.drop(['funded_amnt','annual_inc','out_prncp_inv','total_rec_prncp','last_pymnt_amnt','collections_12_mths_ex_med','acc_now_delinq','pub_rec_bankruptcies','tax_liens','debt_settlement_flag','hardship_flag'],axis=1)\n"
   ]
  },
  {
   "cell_type": "code",
   "execution_count": 28,
   "metadata": {},
   "outputs": [
    {
     "name": "stdout",
     "output_type": "stream",
     "text": [
      "0.9092271336957508\n",
      "2.1576738237255406\n"
     ]
    }
   ],
   "source": [
    "result_lasso=lasso2.fit(cap2_train_feature_r_lasso,cap2_train_target) # fit the further reduced dataset into lasso regression model\n",
    "cap2_pred_lasso=result_lasso.predict(cap2_test_feature_r_lasso) # use test dataset to make prediction with lasso regression model\n",
    "r2_score_lsr=r2_score(cap2_test_target,cap2_pred_lasso) #calculate r_squared value of lasso regression\n",
    "print( r2_score_lsr) # print out lasso regression R-squared value\n",
    "print(mean_squared_error(cap2_test_target,cap2_pred_lasso)) # print out lasso regression mean squared value"
   ]
  },
  {
   "cell_type": "code",
   "execution_count": 29,
   "metadata": {},
   "outputs": [
    {
     "name": "stdout",
     "output_type": "stream",
     "text": [
      "258536\n",
      "20\n",
      "0.9092201110575051\n"
     ]
    }
   ],
   "source": [
    "n_lsr=cap2_train_feature_r_lasso.shape[0]\n",
    "k_lsr=cap2_train_feature_r_lasso.shape[1]\n",
    "print(n_lsr)\n",
    "print(k_lsr)\n",
    "\n",
    "adj_r2_score_lsr=1-(1-r2_score_lsr)*((n_lsr-1)/(n_lsr-k_lsr-1))\n",
    "print(adj_r2_score_lsr)"
   ]
  },
  {
   "cell_type": "code",
   "execution_count": 31,
   "metadata": {},
   "outputs": [
    {
     "data": {
      "image/png": "[encoded data removed]",
      "text/plain": [
       "<Figure size 432x288 with 1 Axes>"
      ]
     },
     "metadata": {
      "needs_background": "light"
     },
     "output_type": "display_data"
    }
   ],
   "source": [
    "#plot lasso regression prediction VS actual interst rate \n",
    "\n",
    "plt.figure(figsize=[6,4]) # set plot size\n",
    "sns.distplot(cap2_test_target,color='black') # plot histgram of actual interst rate\n",
    "sns.distplot(cap2_pred_lasso,color='green') # plot histgram of lasso regression prediction\n",
    "plt.legend(['Actual Interest Rate','Lasso Predict Interest Rate']) # set legend of plot\n",
    "plt.xlabel('Period') # pass in name of x-axis\n",
    "plt.ylabel('Interest Rate') # pass in name of y-axis\n",
    "plt.title('Lasso Regression Prediction') # pass in title of plot\n",
    "plt.xlim([0,35]) # set limits of x-axis\n",
    "plt.show() # show the plot"
   ]
  },
  {
   "cell_type": "code",
   "execution_count": 53,
   "metadata": {},
   "outputs": [
    {
     "data": {
      "text/plain": [
       "GridSearchCV(cv=None, error_score=nan,\n",
       "             estimator=RandomForestRegressor(bootstrap=True, ccp_alpha=0.0,\n",
       "                                             criterion='mse', max_depth=None,\n",
       "                                             max_features='auto',\n",
       "                                             max_leaf_nodes=None,\n",
       "                                             max_samples=None,\n",
       "                                             min_impurity_decrease=0.0,\n",
       "                                             min_impurity_split=None,\n",
       "                                             min_samples_leaf=1,\n",
       "                                             min_samples_split=2,\n",
       "                                             min_weight_fraction_leaf=0.0,\n",
       "                                             n_estimators=100, n_jobs=None,\n",
       "                                             oob_score=False, random_state=None,\n",
       "                                             verbose=0, warm_start=False),\n",
       "             iid='deprecated', n_jobs=None,\n",
       "             param_grid={'max_depth': [35, 75], 'n_estimators': [100, 130]},\n",
       "             pre_dispatch='2*n_jobs', refit=True, return_train_score=False,\n",
       "             scoring=None, verbose=0)"
      ]
     },
     "execution_count": 53,
     "metadata": {},
     "output_type": "execute_result"
    }
   ],
   "source": [
    "from sklearn.ensemble import RandomForestRegressor # import random forest regressor\n",
    "\n",
    "rfreg=RandomForestRegressor() #initiate lasso regression\n",
    "parameters_rf={'n_estimators':[100,130],'max_depth':[35,75]} # set different values of alpa parameter\n",
    "rf_gs=GridSearchCV(rfreg,parameters_rf) # launch grid seach cross validation to find best alpha value\n",
    "rf_gs.fit(cap2_train_feature,cap2_train_target) # pass in training dataset\n",
    "  "
   ]
  },
  {
   "cell_type": "code",
   "execution_count": 54,
   "metadata": {},
   "outputs": [
    {
     "name": "stdout",
     "output_type": "stream",
     "text": [
      "0.9711360559044829\n",
      "{'max_depth': 75, 'n_estimators': 130}\n"
     ]
    }
   ],
   "source": [
    "print(rf_gs.best_score_) # print out best cross validation score   \n",
    "print(rf_gs.best_params_) # print out alpha value                        "
   ]
  },
  {
   "cell_type": "code",
   "execution_count": 32,
   "metadata": {},
   "outputs": [],
   "source": [
    "from sklearn.ensemble import RandomForestRegressor\n",
    "\n",
    "rfreg_1=RandomForestRegressor(n_estimators=130,max_depth=75)"
   ]
  },
  {
   "cell_type": "code",
   "execution_count": 34,
   "metadata": {},
   "outputs": [
    {
     "data": {
      "text/plain": [
       "RandomForestRegressor(bootstrap=True, ccp_alpha=0.0, criterion='mse',\n",
       "                      max_depth=75, max_features='auto', max_leaf_nodes=None,\n",
       "                      max_samples=None, min_impurity_decrease=0.0,\n",
       "                      min_impurity_split=None, min_samples_leaf=1,\n",
       "                      min_samples_split=2, min_weight_fraction_leaf=0.0,\n",
       "                      n_estimators=130, n_jobs=None, oob_score=False,\n",
       "                      random_state=None, verbose=0, warm_start=False)"
      ]
     },
     "execution_count": 34,
     "metadata": {},
     "output_type": "execute_result"
    }
   ],
   "source": [
    "from sklearn.ensemble import RandomForestRegressor # import random forest regressor\n",
    "\n",
    "\n",
    "#initiate random forest regressor\n",
    "rfreg_1.fit(cap2_train_feature,cap2_train_target) # pass in original dataset into random forest regressor "
   ]
  },
  {
   "cell_type": "code",
   "execution_count": 35,
   "metadata": {},
   "outputs": [
    {
     "name": "stdout",
     "output_type": "stream",
     "text": [
      "0.9066497793276502\n",
      "2.2189376163205186\n"
     ]
    }
   ],
   "source": [
    "cap2_pred_rfreg=rfreg_1.predict(cap2_test_feature) # use test dataset to make predictions using random forest regressor\n",
    "r2_score_rf=r2_score(cap2_test_target,cap2_pred_rfreg)\n",
    "print(r2_score_rf) # print out random forest regressor R-squared value\n",
    "print(mean_squared_error(cap2_test_target,cap2_pred_rfreg)) # print out random forest mean squared value"
   ]
  },
  {
   "cell_type": "code",
   "execution_count": 36,
   "metadata": {},
   "outputs": [
    {
     "name": "stdout",
     "output_type": "stream",
     "text": [
      "258536\n",
      "38\n",
      "0.906636056505391\n"
     ]
    }
   ],
   "source": [
    "n_rf=cap2_train_feature.shape[0]\n",
    "k_rf=cap2_train_feature.shape[1]\n",
    "print(n_rf)\n",
    "print(k_rf)\n",
    "\n",
    "adj_r2_score_rf=1-(1-r2_score_rf)*((n_rf-1)/(n_rf-k_rf-1))\n",
    "print(adj_r2_score_rf)"
   ]
  },
  {
   "cell_type": "code",
   "execution_count": 52,
   "metadata": {},
   "outputs": [
    {
     "data": {
      "image/png": "[encoded data removed]",
      "text/plain": [
       "<Figure size 504x288 with 1 Axes>"
      ]
     },
     "metadata": {
      "needs_background": "light"
     },
     "output_type": "display_data"
    }
   ],
   "source": [
    "#plot random froest prediction VS actual interst rate \n",
    "\n",
    "plt.figure(figsize=[7,4])  # set plot size\n",
    "sns.distplot(cap2_test_target,color='purple') # plot histgram of actual interst rate\n",
    "sns.distplot(cap2_pred_rfreg,color='tomato') # plot histgram of random forest prediction\n",
    "plt.legend(['Actual Interest Rate','Random Forest Predict Interest Rate']) # set legend of plot\n",
    "plt.xlabel('Period') # pass in name of x-axis\n",
    "plt.ylabel('Interest Rate') # pass in name of y-axis\n",
    "plt.title('Random Forest Regression Prediction') # pass in title of plot\n",
    "plt.xlim([0,35]) # set limits of x-axis\n",
    "plt.show() # show the plot"
   ]
  },
  {
   "cell_type": "code",
   "execution_count": null,
   "metadata": {},
   "outputs": [],
   "source": []
  }
 ],
 "metadata": {
  "kernelspec": {
   "display_name": "Python 3",
   "language": "python",
   "name": "python3"
  },
  "language_info": {
   "codemirror_mode": {
    "name": "ipython",
    "version": 3
   },
   "file_extension": ".py",
   "mimetype": "text/x-python",
   "name": "python",
   "nbconvert_exporter": "python",
   "pygments_lexer": "ipython3",
   "version": "3.7.4"
  }
 },
 "nbformat": 4,
 "nbformat_minor": 2
}
